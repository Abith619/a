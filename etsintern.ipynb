{
 "cells": [
  {
   "cell_type": "markdown",
   "id": "0cba8355-63be-46e8-b76f-3c520573b3a2",
   "metadata": {},
   "source": [
    "DAY 1 (17/07/24)"
   ]
  },
  {
   "cell_type": "code",
   "execution_count": 1,
   "id": "9f637389-2a7a-4ce9-91ca-b6031f9d3d1d",
   "metadata": {},
   "outputs": [
    {
     "name": "stdout",
     "output_type": "stream",
     "text": [
      "I will go\n"
     ]
    }
   ],
   "source": [
    "ticket_price = 150\n",
    "\n",
    "if ticket_price <= 200:\n",
    "    print(\"I will go\")\n",
    "else:\n",
    "    print(\"I will not go\")"
   ]
  },
  {
   "cell_type": "code",
   "execution_count": 2,
   "id": "c8182c34-45bc-41f8-9e61-d4542466492f",
   "metadata": {},
   "outputs": [
    {
     "name": "stdout",
     "output_type": "stream",
     "text": [
      "I will go\n"
     ]
    }
   ],
   "source": [
    "ticket_price = 150 \n",
    "theater_distance = 8 \n",
    "\n",
    "if ticket_price <= 200 and theater_distance <= 10:\n",
    "    print(\"I will go\")\n",
    "else:\n",
    "    print(\"I will not go\")\n"
   ]
  },
  {
   "cell_type": "code",
   "execution_count": 20,
   "id": "1da6d29b-92d3-4496-81a1-bacbcbe79eda",
   "metadata": {},
   "outputs": [
    {
     "name": "stdout",
     "output_type": "stream",
     "text": [
      "['Bloody Mary']\n"
     ]
    }
   ],
   "source": [
    "def read_data(file_path):\n",
    "    data=[]\n",
    "    with open(file_path, 'r') as file:\n",
    "        for line in file:\n",
    "            data.append(line.strip())\n",
    "            return data\n",
    "\n",
    "file_path = 'Sample.txt'\n",
    "data = read_data(file_path)\n",
    "print(data)"
   ]
  },
  {
   "cell_type": "code",
   "execution_count": 19,
   "id": "773aa7d0-1779-4d33-adb0-33face6d667b",
   "metadata": {},
   "outputs": [
    {
     "name": "stdout",
     "output_type": "stream",
     "text": [
      "None\n"
     ]
    }
   ],
   "source": [
    "def write_data(file_path, data):\n",
    "    with open(file_path, 'w') as file:\n",
    "        for item in data:\n",
    "            file.write(f\"{item}\\n\")\n",
    "\n",
    "data_to_write = ['Bloody Mary', 'Serbian Lady', 'Smiling women']\n",
    "file_path = 'Sample.txt'\n",
    "dt=write_data(file_path, data_to_write)\n",
    "print(dt)"
   ]
  },
  {
   "cell_type": "markdown",
   "id": "2c298b8d-9e71-42b9-a4b2-18955272e67d",
   "metadata": {},
   "source": [
    "DAY 2 (18/07/24)"
   ]
  },
  {
   "cell_type": "code",
   "execution_count": 1,
   "id": "ff2a1df0-ff07-464d-b950-34e1b56c7ea0",
   "metadata": {},
   "outputs": [
    {
     "name": "stdout",
     "output_type": "stream",
     "text": [
      "Conjuring 5\n",
      "Annabelle 3\n",
      "Ghoul 4.5\n",
      "la llorana 4\n"
     ]
    }
   ],
   "source": [
    "#printing the values using zip function\n",
    "#create a list\n",
    "movie=[\"Conjuring\",\"Annabelle\",\"Ghoul\",\"la llorana\"]\n",
    "rating=[5,3,4.5,4]\n",
    "for movie, rating in zip(movie,rating):\n",
    "    print(movie,rating)"
   ]
  },
  {
   "cell_type": "code",
   "execution_count": 3,
   "id": "3aeeb330-0b31-4a2e-8067-6eab2d2dc7ee",
   "metadata": {},
   "outputs": [
    {
     "name": "stdout",
     "output_type": "stream",
     "text": [
      "      Name  Age       Role  Salary\n",
      "0     Danu   20    Manager   40000\n",
      "1  Preethi   22         HR   50000\n",
      "2  Sicilia   23    Trainer   35000\n",
      "3    Kitty   19  Team Lead   37000\n"
     ]
    }
   ],
   "source": [
    "#importing pandas and printing the values in frames\n",
    "import pandas as pd\n",
    "a={\n",
    "    'Name':['Danu','Preethi','Sicilia','Kitty'],\n",
    "    'Age':[20,22,23,19],\n",
    "    'Role':[\"Manager\",\"HR\",\"Trainer\",\"Team Lead\"],\n",
    "    'Salary':[40000,50000,35000,37000]\n",
    "}\n",
    "df=pd.DataFrame(a)\n",
    "print(df)"
   ]
  },
  {
   "cell_type": "code",
   "execution_count": 4,
   "id": "54b854f4-75b5-4797-a14e-00a4554bf775",
   "metadata": {},
   "outputs": [
    {
     "name": "stdout",
     "output_type": "stream",
     "text": [
      "<class 'pandas.core.frame.DataFrame'>\n",
      "RangeIndex: 4 entries, 0 to 3\n",
      "Data columns (total 4 columns):\n",
      " #   Column  Non-Null Count  Dtype \n",
      "---  ------  --------------  ----- \n",
      " 0   Name    4 non-null      object\n",
      " 1   Age     4 non-null      int64 \n",
      " 2   Role    4 non-null      object\n",
      " 3   Salary  4 non-null      int64 \n",
      "dtypes: int64(2), object(2)\n",
      "memory usage: 260.0+ bytes\n",
      "None\n"
     ]
    }
   ],
   "source": [
    "print(df.info())"
   ]
  },
  {
   "cell_type": "code",
   "execution_count": 5,
   "id": "8ef760b1-09d1-4931-bbb8-6e1bb63300bc",
   "metadata": {},
   "outputs": [
    {
     "name": "stdout",
     "output_type": "stream",
     "text": [
      "             Age        Salary\n",
      "count   4.000000      4.000000\n",
      "mean   21.000000  40500.000000\n",
      "std     1.825742   6658.328118\n",
      "min    19.000000  35000.000000\n",
      "25%    19.750000  36500.000000\n",
      "50%    21.000000  38500.000000\n",
      "75%    22.250000  42500.000000\n",
      "max    23.000000  50000.000000\n"
     ]
    }
   ],
   "source": [
    "print(df.describe())"
   ]
  },
  {
   "cell_type": "code",
   "execution_count": 6,
   "id": "faa9320c-d3ac-4d05-a908-95a1f038990f",
   "metadata": {},
   "outputs": [
    {
     "name": "stdout",
     "output_type": "stream",
     "text": [
      "0    20\n",
      "1    22\n",
      "2    23\n",
      "3    19\n",
      "Name: Age, dtype: int64 ['Manager' 'HR' 'Trainer' 'Team Lead']\n"
     ]
    }
   ],
   "source": [
    "#Removing the extra values and printing the unique values\n",
    "print(df[\"Age\"],df[\"Role\"].unique())"
   ]
  },
  {
   "cell_type": "code",
   "execution_count": 7,
   "id": "918f5d66-d5fe-45f7-a23b-d40bf194f057",
   "metadata": {},
   "outputs": [
    {
     "name": "stdout",
     "output_type": "stream",
     "text": [
      "4\n"
     ]
    }
   ],
   "source": [
    "#Counting the values\n",
    "print(df[\"Age\"].count())"
   ]
  },
  {
   "cell_type": "code",
   "execution_count": 8,
   "id": "bd1f4752-65fa-4f7b-9364-9792e315456a",
   "metadata": {},
   "outputs": [
    {
     "name": "stdout",
     "output_type": "stream",
     "text": [
      "40500.0\n"
     ]
    }
   ],
   "source": [
    "#Find the Mean\n",
    "print(df[\"Salary\"].mean())"
   ]
  },
  {
   "cell_type": "code",
   "execution_count": 9,
   "id": "31da84e4-f298-4c09-9fb6-0687b82cb6ce",
   "metadata": {},
   "outputs": [
    {
     "name": "stdout",
     "output_type": "stream",
     "text": [
      "0    20\n",
      "1    22\n",
      "2    23\n",
      "3    19\n",
      "Name: Age, dtype: int64 6658.328118479393\n"
     ]
    }
   ],
   "source": [
    "#Standard Deviation\n",
    "print(df[\"Age\"],df[\"Salary\"].std())"
   ]
  },
  {
   "cell_type": "code",
   "execution_count": 11,
   "id": "ce4b0895-6605-42c1-8513-26cac0bb95fb",
   "metadata": {},
   "outputs": [
    {
     "name": "stdout",
     "output_type": "stream",
     "text": [
      "0    20\n",
      "1    22\n",
      "2    23\n",
      "3    19\n",
      "Name: Age, dtype: int64 38500.0\n"
     ]
    }
   ],
   "source": [
    "#Find the Median\n",
    "print(df[\"Age\"],df[\"Salary\"].median())"
   ]
  },
  {
   "cell_type": "markdown",
   "id": "ce097310-b619-46b6-b527-0d58c70593b6",
   "metadata": {},
   "source": [
    "DAY 3 (19/07/24)"
   ]
  },
  {
   "cell_type": "code",
   "execution_count": 2,
   "id": "edb0ec83-9cd8-4db2-8bd0-90b4821871ea",
   "metadata": {},
   "outputs": [],
   "source": [
    "import pandas as pd\n",
    "df1 =pd.read_csv('task1.csv')\n",
    "df2 =pd.read_csv('task2.csv')"
   ]
  },
  {
   "cell_type": "code",
   "execution_count": 24,
   "id": "9fa0bfe1-f701-4b31-95f2-c92744e1ff0c",
   "metadata": {},
   "outputs": [
    {
     "name": "stdout",
     "output_type": "stream",
     "text": [
      "<class 'pandas.core.frame.DataFrame'>\n",
      "RangeIndex: 15 entries, 0 to 14\n",
      "Data columns (total 3 columns):\n",
      " #   Column         Non-Null Count  Dtype \n",
      "---  ------         --------------  ----- \n",
      " 0   project id     15 non-null     int64 \n",
      " 1   emp id         15 non-null     int64 \n",
      " 2   working hours  15 non-null     object\n",
      "dtypes: int64(2), object(1)\n",
      "memory usage: 492.0+ bytes\n",
      "None\n",
      "<class 'pandas.core.frame.DataFrame'>\n",
      "RangeIndex: 15 entries, 0 to 14\n",
      "Data columns (total 4 columns):\n",
      " #   Column      Non-Null Count  Dtype \n",
      "---  ------      --------------  ----- \n",
      " 0   emp id      15 non-null     int64 \n",
      " 1   emp name    15 non-null     object\n",
      " 2   emp role    15 non-null     object\n",
      " 3   emp salary  15 non-null     int64 \n",
      "dtypes: int64(2), object(2)\n",
      "memory usage: 612.0+ bytes\n",
      "None\n"
     ]
    }
   ],
   "source": [
    "print(df1.info())\n",
    "print(df2.info())"
   ]
  },
  {
   "cell_type": "code",
   "execution_count": 25,
   "id": "d281f1b8-7291-4458-b353-512940230246",
   "metadata": {},
   "outputs": [
    {
     "name": "stdout",
     "output_type": "stream",
     "text": [
      "   project id  emp id working hours\n",
      "0      202001    1101       3 Hours\n",
      "1      202002    1102       5 Hours\n",
      "2      202002    1103       4 Hours\n",
      "3      202001    1104       3 Hours\n",
      "4      202003    1105       5 Hours\n",
      "   emp id emp name        emp role  emp salary\n",
      "0    1101    Alice       Developer       50000\n",
      "1    1102      Bob       Developer       55000\n",
      "2    1103    Cathy         Testing       40000\n",
      "3    1104     Danu  Data scientist      100000\n",
      "4    1105   Farina         Testing       40000\n"
     ]
    }
   ],
   "source": [
    "# Display the first few rows of the dataset\n",
    "print(df1.head())\n",
    "print(df2.head())"
   ]
  },
  {
   "cell_type": "code",
   "execution_count": 26,
   "id": "fdcae495-a11a-43d7-b2d2-4e2f3822ac71",
   "metadata": {},
   "outputs": [
    {
     "name": "stdout",
     "output_type": "stream",
     "text": [
      "          project id       emp id\n",
      "count      15.000000    15.000000\n",
      "mean   202002.000000  1108.000000\n",
      "std         0.845154     4.472136\n",
      "min    202001.000000  1101.000000\n",
      "25%    202001.000000  1104.500000\n",
      "50%    202002.000000  1108.000000\n",
      "75%    202003.000000  1111.500000\n",
      "max    202003.000000  1115.000000\n",
      "            emp id     emp salary\n",
      "count    15.000000      15.000000\n",
      "mean   1108.000000   59866.666667\n",
      "std       4.472136   21619.655960\n",
      "min    1101.000000   30000.000000\n",
      "25%    1104.500000   44000.000000\n",
      "50%    1108.000000   55000.000000\n",
      "75%    1111.500000   80000.000000\n",
      "max    1115.000000  100000.000000\n"
     ]
    }
   ],
   "source": [
    "print(df1.describe())\n",
    "print(df2.describe())"
   ]
  },
  {
   "cell_type": "code",
   "execution_count": 27,
   "id": "762cda7f-1334-451c-9529-a17c5a69fc64",
   "metadata": {},
   "outputs": [
    {
     "name": "stdout",
     "output_type": "stream",
     "text": [
      "15\n"
     ]
    }
   ],
   "source": [
    "print(len(df))"
   ]
  },
  {
   "cell_type": "code",
   "execution_count": 30,
   "id": "7466dbfc-c392-4c4c-99c4-d78d360452e7",
   "metadata": {},
   "outputs": [
    {
     "name": "stdout",
     "output_type": "stream",
     "text": [
      "(15, 3)\n"
     ]
    }
   ],
   "source": [
    "print(df1.shape)"
   ]
  },
  {
   "cell_type": "code",
   "execution_count": 45,
   "id": "fdf164dc-9450-441c-ae56-c5fff09a98e5",
   "metadata": {
    "scrolled": true
   },
   "outputs": [
    {
     "name": "stdout",
     "output_type": "stream",
     "text": [
      "   emp name  project id\n",
      "0     Alice      202001\n",
      "1       Bob      202002\n",
      "2     Cathy      202002\n",
      "3      Danu      202001\n",
      "4    Farina      202003\n",
      "5    Gabrii      202003\n",
      "6    Melizy      202001\n",
      "7      Lucy      202001\n",
      "8    Daniel      202003\n",
      "9     Kathe      202003\n",
      "10    Maria      202002\n",
      "11     John      202003\n",
      "12     Alex      202002\n",
      "13  Camrool      202001\n",
      "14  Christy      202002\n"
     ]
    }
   ],
   "source": [
    "merged_df = pd.merge(df1, df2, on='emp id')\n",
    "\n",
    "column = merged_df[['emp name', 'project id']]\n",
    "print(column)"
   ]
  },
  {
   "cell_type": "code",
   "execution_count": 4,
   "id": "41600dd2-7768-441c-87fc-ce441514a568",
   "metadata": {},
   "outputs": [
    {
     "name": "stdout",
     "output_type": "stream",
     "text": [
      "   emp name project id\n",
      "0      Alex   [202002]\n",
      "1     Alice   [202001]\n",
      "2       Bob   [202002]\n",
      "3   Camrool   [202001]\n",
      "4     Cathy   [202002]\n",
      "5   Christy   [202002]\n",
      "6    Daniel   [202003]\n",
      "7      Danu   [202001]\n",
      "8    Farina   [202003]\n",
      "9    Gabrii   [202003]\n",
      "10     John   [202003]\n",
      "11    Kathe   [202003]\n",
      "12     Lucy   [202001]\n",
      "13    Maria   [202002]\n",
      "14   Melizy   [202001]\n"
     ]
    }
   ],
   "source": [
    "merged_df = pd.merge(df1, df2, on='emp id')\n",
    "\n",
    "grouped_df = merged_df.groupby('emp name')['project id'].apply(list).reset_index()\n",
    "\n",
    "print(grouped_df)"
   ]
  },
  {
   "cell_type": "code",
   "execution_count": 9,
   "id": "598efe23-a74e-44c6-8c56-bc7c6050abe9",
   "metadata": {},
   "outputs": [
    {
     "name": "stdout",
     "output_type": "stream",
     "text": [
      "emp name\n",
      "Alex       [202002]\n",
      "Alice      [202001]\n",
      "Bob        [202002]\n",
      "Camrool    [202001]\n",
      "Cathy      [202002]\n",
      "Christy    [202002]\n",
      "Daniel     [202003]\n",
      "Danu       [202001]\n",
      "Farina     [202003]\n",
      "Gabrii     [202003]\n",
      "John       [202003]\n",
      "Kathe      [202003]\n",
      "Lucy       [202001]\n",
      "Maria      [202002]\n",
      "Melizy     [202001]\n",
      "Name: project id, dtype: object\n"
     ]
    }
   ],
   "source": [
    "merged_df = pd.merge(df1, df2, on='emp id')\n",
    "\n",
    "grouped_df = merged_df.groupby('emp name')['project id'].apply(list)\n",
    "\n",
    "print(grouped_df)"
   ]
  },
  {
   "cell_type": "markdown",
   "id": "7b614a37-1b4b-4cab-8abb-36004c21a5fa",
   "metadata": {},
   "source": [
    "DAY 4 (22/07/24)"
   ]
  },
  {
   "cell_type": "code",
   "execution_count": 2,
   "id": "700eff53-d853-4ea1-803c-eaf7a9fc0f2a",
   "metadata": {},
   "outputs": [],
   "source": [
    "import pandas as pd\n",
    "df1 =pd.read_csv('task1.csv')\n",
    "df2 =pd.read_csv('task2.csv')"
   ]
  },
  {
   "cell_type": "code",
   "execution_count": 4,
   "id": "73536f65-89b1-4233-9c38-8bb43ee6f756",
   "metadata": {},
   "outputs": [
    {
     "name": "stdout",
     "output_type": "stream",
     "text": [
      "['Alice' 'Bob' 'Cathy' 'Danu' 'Farina' 'Gabrii' 'Melizy' 'Lucy' 'Daniel'\n",
      " 'Kathe' 'Maria' 'John' 'Alex' 'Camrool' 'Christy']\n",
      "[1101 1102 1103 1104 1105 1106 1107 1108 1109 1110 1111 1112 1113 1114\n",
      " 1115]\n"
     ]
    }
   ],
   "source": [
    "\n",
    "import numpy as np\n",
    "arr1 = df2[\"emp name\"].values\n",
    "arr2 = df2[\"emp id\"].values\n",
    "print(arr1)\n",
    "print(arr2)"
   ]
  },
  {
   "cell_type": "code",
   "execution_count": 5,
   "id": "9bf3ccf8-765f-42b8-9085-a304455f9148",
   "metadata": {},
   "outputs": [
    {
     "name": "stdout",
     "output_type": "stream",
     "text": [
      "['Alice' 'Bob' 'Cathy' 'Danu' 'Farina' 'Gabrii' 'Melizy' 'Lucy' 'Daniel'\n",
      " 'Kathe' 'Maria' 'John' 'Alex' 'Camrool' 'Christy' 1101 1102 1103 1104\n",
      " 1105 1106 1107 1108 1109 1110 1111 1112 1113 1114 1115]\n"
     ]
    }
   ],
   "source": [
    "danu= np.concatenate((arr1, arr2))\n",
    "print(danu)"
   ]
  },
  {
   "cell_type": "code",
   "execution_count": 22,
   "id": "d295cf89-8f7e-41c7-9551-7eae72afe1ac",
   "metadata": {},
   "outputs": [
    {
     "name": "stdout",
     "output_type": "stream",
     "text": [
      "[202001 202002 202002 202001 202003 202003 202001 202001 202003 202003\n",
      " 202002 202003 202002 202001 202002]\n",
      "[1101 1102 1103 1104 1105 1106 1107 1108 1109 1110 1111 1112 1113 1114\n",
      " 1115]\n",
      "[ 50000  55000  40000 100000  40000  80000  60000  55000  48000  85000\n",
      "  60000  30000  30000  80000  85000]\n"
     ]
    }
   ],
   "source": [
    "import numpy as np\n",
    "arr3 = df1[\"project id\"].values\n",
    "arr4 = df2[\"emp id\"].values\n",
    "arr5 = df2[\"emp salary\"].values\n",
    "print(arr3)\n",
    "print(arr4)\n",
    "print(arr5)"
   ]
  },
  {
   "cell_type": "code",
   "execution_count": 23,
   "id": "c151c80d-3cbf-4688-8ca0-0fc871a3d804",
   "metadata": {},
   "outputs": [
    {
     "name": "stdout",
     "output_type": "stream",
     "text": [
      "[202001 202002 202002 202001 202003 202003 202001 202001 202003 202003\n",
      " 202002 202003 202002 202001 202002   1101   1102   1103   1104   1105\n",
      "   1106   1107   1108   1109   1110   1111   1112   1113   1114   1115]\n"
     ]
    }
   ],
   "source": [
    "conc= np.concatenate((arr3, arr4))\n",
    "print(conc)"
   ]
  },
  {
   "cell_type": "code",
   "execution_count": 29,
   "id": "015bfdfe-ddc3-4bd8-a53b-34b4d1bbf3f4",
   "metadata": {},
   "outputs": [
    {
     "name": "stdout",
     "output_type": "stream",
     "text": [
      "[[0.23636708 0.52472256 0.41584903]\n",
      " [0.63452974 0.47288027 0.41740007]\n",
      " [0.78287496 0.05065697 0.46516349]]\n"
     ]
    }
   ],
   "source": [
    "data  = np.random.rand(3,3)\n",
    "print(data)"
   ]
  },
  {
   "cell_type": "code",
   "execution_count": null,
   "id": "89737264-57e9-4cb0-b636-60a00204960f",
   "metadata": {},
   "outputs": [
    {
     "ename": "",
     "evalue": "",
     "output_type": "error",
     "traceback": [
      "\u001b[1;31mRunning cells with 'Python 3.13.0' requires the ipykernel package.\n",
      "\u001b[1;31mRun the following command to install 'ipykernel' into the Python environment. \n",
      "\u001b[1;31mCommand: 'f:/Python/python.exe -m pip install ipykernel -U --user --force-reinstall'"
     ]
    }
   ],
   "source": [
    "data1  = np.random.randint(1,100,size=arr5.shape)\n",
    "print(data1)"
   ]
  },
  {
   "cell_type": "code",
   "execution_count": null,
   "id": "47ccb581-bd27-4dd4-b81c-e73f85c12b61",
   "metadata": {},
   "outputs": [
    {
     "ename": "ValueError",
     "evalue": "setting an array element with a sequence. The requested array has an inhomogeneous shape after 1 dimensions. The detected shape was (2,) + inhomogeneous part.",
     "output_type": "error",
     "traceback": [
      "\u001b[1;31m---------------------------------------------------------------------------\u001b[0m",
      "\u001b[1;31mValueError\u001b[0m                                Traceback (most recent call last)",
      "Cell \u001b[1;32mIn[31], line 1\u001b[0m\n\u001b[1;32m----> 1\u001b[0m data3\u001b[38;5;241m=\u001b[39mnp\u001b[38;5;241m.\u001b[39mvar((arr5,data))\n\u001b[0;32m      2\u001b[0m \u001b[38;5;28mprint\u001b[39m(data3)\n",
      "File \u001b[1;32m~\\anaconda3\\anaconda\\Lib\\site-packages\\numpy\\core\\fromnumeric.py:3787\u001b[0m, in \u001b[0;36mvar\u001b[1;34m(a, axis, dtype, out, ddof, keepdims, where)\u001b[0m\n\u001b[0;32m   3784\u001b[0m     \u001b[38;5;28;01melse\u001b[39;00m:\n\u001b[0;32m   3785\u001b[0m         \u001b[38;5;28;01mreturn\u001b[39;00m var(axis\u001b[38;5;241m=\u001b[39maxis, dtype\u001b[38;5;241m=\u001b[39mdtype, out\u001b[38;5;241m=\u001b[39mout, ddof\u001b[38;5;241m=\u001b[39mddof, \u001b[38;5;241m*\u001b[39m\u001b[38;5;241m*\u001b[39mkwargs)\n\u001b[1;32m-> 3787\u001b[0m \u001b[38;5;28;01mreturn\u001b[39;00m _methods\u001b[38;5;241m.\u001b[39m_var(a, axis\u001b[38;5;241m=\u001b[39maxis, dtype\u001b[38;5;241m=\u001b[39mdtype, out\u001b[38;5;241m=\u001b[39mout, ddof\u001b[38;5;241m=\u001b[39mddof,\n\u001b[0;32m   3788\u001b[0m                      \u001b[38;5;241m*\u001b[39m\u001b[38;5;241m*\u001b[39mkwargs)\n",
      "File \u001b[1;32m~\\anaconda3\\anaconda\\Lib\\site-packages\\numpy\\core\\_methods.py:137\u001b[0m, in \u001b[0;36m_var\u001b[1;34m(a, axis, dtype, out, ddof, keepdims, where)\u001b[0m\n\u001b[0;32m    135\u001b[0m \u001b[38;5;28;01mdef\u001b[39;00m \u001b[38;5;21m_var\u001b[39m(a, axis\u001b[38;5;241m=\u001b[39m\u001b[38;5;28;01mNone\u001b[39;00m, dtype\u001b[38;5;241m=\u001b[39m\u001b[38;5;28;01mNone\u001b[39;00m, out\u001b[38;5;241m=\u001b[39m\u001b[38;5;28;01mNone\u001b[39;00m, ddof\u001b[38;5;241m=\u001b[39m\u001b[38;5;241m0\u001b[39m, keepdims\u001b[38;5;241m=\u001b[39m\u001b[38;5;28;01mFalse\u001b[39;00m, \u001b[38;5;241m*\u001b[39m,\n\u001b[0;32m    136\u001b[0m          where\u001b[38;5;241m=\u001b[39m\u001b[38;5;28;01mTrue\u001b[39;00m):\n\u001b[1;32m--> 137\u001b[0m     arr \u001b[38;5;241m=\u001b[39m asanyarray(a)\n\u001b[0;32m    139\u001b[0m     rcount \u001b[38;5;241m=\u001b[39m _count_reduce_items(arr, axis, keepdims\u001b[38;5;241m=\u001b[39mkeepdims, where\u001b[38;5;241m=\u001b[39mwhere)\n\u001b[0;32m    140\u001b[0m     \u001b[38;5;66;03m# Make this warning show up on top.\u001b[39;00m\n",
      "\u001b[1;31mValueError\u001b[0m: setting an array element with a sequence. The requested array has an inhomogeneous shape after 1 dimensions. The detected shape was (2,) + inhomogeneous part."
     ]
    }
   ],
   "source": [
    "data3=np.var((arr5,data))\n",
    "print(data3)"
   ]
  },
  {
   "cell_type": "markdown",
   "id": "d15b3ca1-e6cb-49f5-a700-19deaed4a0a0",
   "metadata": {},
   "source": [
    "DAY 5 (23/07/24)"
   ]
  },
  {
   "cell_type": "code",
   "execution_count": 3,
   "id": "cd4280ba-88f5-4bda-bb28-d36ca6f3a733",
   "metadata": {},
   "outputs": [
    {
     "name": "stdout",
     "output_type": "stream",
     "text": [
      "    emp id working hours\n",
      "0     1101       3 Hours\n",
      "1     1102       5 Hours\n",
      "2     1103       4 Hours\n",
      "3     1104       3 Hours\n",
      "4     1105       5 Hours\n",
      "5     1106       4 Hours\n",
      "6     1107       3 Hours\n",
      "7     1108       5 Hours\n",
      "8     1109       2 Hours\n",
      "9     1110       5 Hours\n",
      "10    1111       3 Hours\n",
      "11    1112       4 Hours\n",
      "12    1113       5 Hours\n",
      "13    1114       3 Hours\n",
      "14    1115       4 Hours\n"
     ]
    }
   ],
   "source": [
    "merged_df = pd.merge(df1, df2, on='emp id')\n",
    "\n",
    "column1 = merged_df[['emp id', 'working hours']]\n",
    "print(column1)"
   ]
  },
  {
   "cell_type": "code",
   "execution_count": 5,
   "id": "bfa38508-04f4-4e8c-b0d1-37e2ea32d179",
   "metadata": {},
   "outputs": [],
   "source": [
    "total_working_hours = merged_df['working hours'].sum()"
   ]
  },
  {
   "cell_type": "code",
   "execution_count": 15,
   "id": "a14d21f7-d73a-4121-9647-5f2759d68b21",
   "metadata": {},
   "outputs": [
    {
     "data": {
      "image/png": "[encoded data removed]",
      "text/plain": [
       "<Figure size 1000x700 with 1 Axes>"
      ]
     },
     "metadata": {},
     "output_type": "display_data"
    }
   ],
   "source": [
    "import matplotlib.pyplot as plt\n",
    "\n",
    "# Sort the DataFrame by working hours\n",
    "sct = column1.sort_values(by='working hours', ascending=False)\n",
    "\n",
    "# Create the scatter plot\n",
    "plt.figure(figsize=(10, 7))\n",
    "plt.scatter(sct['emp id'], sct['working hours'], color='blue')\n",
    "plt.xlabel('emp id')\n",
    "plt.ylabel('working hours')\n",
    "plt.title('Working Hours of the Project')\n",
    "plt.plot(sct['emp id'], sct['working hours'])\n",
    "plt.show()\n"
   ]
  },
  {
   "cell_type": "code",
   "execution_count": 27,
   "id": "d0c16a0a-b450-4d56-b2fc-c768d26ac872",
   "metadata": {},
   "outputs": [
    {
     "data": {
      "application/javascript": "\n        if (window._pyforest_update_imports_cell) { window._pyforest_update_imports_cell('import seaborn as sns\\nimport pandas as pd'); }\n    ",
      "text/plain": [
       "<IPython.core.display.Javascript object>"
      ]
     },
     "metadata": {},
     "output_type": "display_data"
    },
    {
     "data": {
      "image/png": "[encoded data removed]",
      "text/plain": [
       "<Figure size 1000x300 with 1 Axes>"
      ]
     },
     "metadata": {},
     "output_type": "display_data"
    }
   ],
   "source": [
    "# Create the countplot\n",
    "plt.figure(figsize=(10, 3))\n",
    "sns.countplot(y=merged_df['working hours'], order=merged_df['working hours'].value_counts().index)\n",
    "plt.title('Working Hours of the Project')\n",
    "plt.xlabel('Employee ID')\n",
    "plt.ylabel('Working Hours')\n",
    "plt.show()"
   ]
  },
  {
   "cell_type": "code",
   "execution_count": 28,
   "id": "a668208a-4412-4019-a740-9ba9fda28cff",
   "metadata": {},
   "outputs": [
    {
     "data": {
      "image/png": "[encoded data removed]",
      "text/plain": [
       "<Figure size 1000x700 with 1 Axes>"
      ]
     },
     "metadata": {},
     "output_type": "display_data"
    }
   ],
   "source": [
    "# Create the bar graph\n",
    "plt.figure(figsize=(10, 7))\n",
    "plt.bar(sct['emp id'], sct['working hours'], color='blue')\n",
    "plt.xlabel('emp id')\n",
    "plt.ylabel('working hours')\n",
    "plt.title('Working Hours of the Project')\n",
    "plt.show()"
   ]
  },
  {
   "cell_type": "code",
   "execution_count": null,
   "id": "243edeb9-a526-441f-84d6-b24bf59bc0e6",
   "metadata": {},
   "outputs": [],
   "source": []
  }
 ],
 "metadata": {
  "kernelspec": {
   "display_name": "Python 3 (ipykernel)",
   "language": "python",
   "name": "python3"
  },
  "language_info": {
   "codemirror_mode": {
    "name": "ipython",
    "version": 3
   },
   "file_extension": ".py",
   "mimetype": "text/x-python",
   "name": "python",
   "nbconvert_exporter": "python",
   "pygments_lexer": "ipython3",
   "version": "3.13.0"
  }
 },
 "nbformat": 4,
 "nbformat_minor": 5
}
